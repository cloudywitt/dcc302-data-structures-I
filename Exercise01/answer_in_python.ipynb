{
 "cells": [
  {
   "cell_type": "markdown",
   "metadata": {},
   "source": [
    "## Linear Search"
   ]
  },
  {
   "cell_type": "code",
   "execution_count": 1,
   "metadata": {},
   "outputs": [],
   "source": [
    "def linear_search(array, target):\n",
    "    positions_list = []\n",
    "\n",
    "    for position, element in enumerate(array):\n",
    "        if target == element:\n",
    "            positions_list.append(position)\n",
    "\n",
    "    return positions_list"
   ]
  },
  {
   "cell_type": "markdown",
   "metadata": {},
   "source": [
    "## Binary Search"
   ]
  },
  {
   "cell_type": "code",
   "execution_count": 2,
   "metadata": {},
   "outputs": [],
   "source": [
    "def find_first_occurrence(array, target):\n",
    "    low = 0\n",
    "    high = len(array) - 1\n",
    "    result = None\n",
    "\n",
    "    while (low <= high):\n",
    "        mid = (low + high) // 2\n",
    "\n",
    "        if target == array[mid]:\n",
    "            result = mid\n",
    "            high = mid - 1\n",
    "        elif target < array[mid]:\n",
    "            high = mid - 1\n",
    "        else:\n",
    "            low = mid + 1\n",
    "\n",
    "    return result"
   ]
  },
  {
   "cell_type": "code",
   "execution_count": 3,
   "metadata": {
    "editable": true,
    "slideshow": {
     "slide_type": ""
    },
    "tags": []
   },
   "outputs": [],
   "source": [
    "def find_last_occurrence(array, target): \n",
    "    low = 0\n",
    "    high = len(array) - 1\n",
    "    result = None\n",
    "\n",
    "    while low <= high:\n",
    "        mid = (low + high) // 2\n",
    "\n",
    "        if target == array[mid]:\n",
    "            result = mid\n",
    "            low = mid + 1\n",
    "        elif target < array[mid]: \n",
    "            high = mid - 1\n",
    "        else:\n",
    "            low = mid + 1\n",
    "\n",
    "    return result"
   ]
  },
  {
   "cell_type": "code",
   "execution_count": 4,
   "metadata": {},
   "outputs": [],
   "source": [
    "def binary_search(array, target):\n",
    "    start = find_first_occurrence(array, target)\n",
    "    end = find_last_occurrence(array, target)\n",
    "\n",
    "    occurrencesList = []\n",
    "\n",
    "    if start != None:\n",
    "        occurrencesList = list(range(start, end + 1))\n",
    "\n",
    "    return occurrencesList\n",
    "\n"
   ]
  },
  {
   "cell_type": "markdown",
   "metadata": {},
   "source": [
    "### First case: [2, 2, 5, 8, 23, 24, 32, 44, 56, 99], 2"
   ]
  },
  {
   "cell_type": "code",
   "execution_count": 5,
   "metadata": {},
   "outputs": [
    {
     "name": "stdout",
     "output_type": "stream",
     "text": [
      "Result by Linear Search: [0, 1]\n",
      "Result by Binary Search: [0, 1]\n"
     ]
    }
   ],
   "source": [
    "l = [2, 2, 5, 8, 23, 24, 32, 44, 56, 99]\n",
    "\n",
    "print(\"Result by Linear Search:\", linear_search(l, 2))\n",
    "print(\"Result by Binary Search:\", binary_search(l, 2))"
   ]
  },
  {
   "cell_type": "markdown",
   "metadata": {},
   "source": [
    "### Second case: [1, 13, 21, 21, 21, 25, 36, 74], 21"
   ]
  },
  {
   "cell_type": "code",
   "execution_count": 6,
   "metadata": {},
   "outputs": [
    {
     "name": "stdout",
     "output_type": "stream",
     "text": [
      "Result by Linear Search: [2, 3, 4]\n",
      "Result by Binary Search: [2, 3, 4]\n"
     ]
    }
   ],
   "source": [
    "l = [1, 13, 21, 21, 21, 25, 36, 74]\n",
    "\n",
    "print(\"Result by Linear Search:\", linear_search(l, 21))\n",
    "print(\"Result by Binary Search:\", binary_search(l, 21))"
   ]
  },
  {
   "cell_type": "markdown",
   "metadata": {},
   "source": [
    "### Third case: [4, 14, 15, 19, 21, 23, 45, 78, 81, 81, 90], 81"
   ]
  },
  {
   "cell_type": "code",
   "execution_count": 7,
   "metadata": {},
   "outputs": [
    {
     "name": "stdout",
     "output_type": "stream",
     "text": [
      "Result by Linear Search: [8, 9]\n",
      "Result by Binary Search: [8, 9]\n"
     ]
    }
   ],
   "source": [
    "l = [4, 14, 15, 19, 21, 23, 45, 78, 81, 81, 90]\n",
    "\n",
    "print(\"Result by Linear Search:\", linear_search(l, 81))\n",
    "print(\"Result by Binary Search:\", binary_search(l, 81))\n"
   ]
  },
  {
   "cell_type": "markdown",
   "metadata": {},
   "source": [
    "### Fourth case: [2, 2, 5, 8, 23, 24, 32, 44, 56, 99], 7"
   ]
  },
  {
   "cell_type": "code",
   "execution_count": 8,
   "metadata": {},
   "outputs": [
    {
     "name": "stdout",
     "output_type": "stream",
     "text": [
      "Result by Linear Search: []\n",
      "Result by Binary Search: []\n"
     ]
    }
   ],
   "source": [
    "l = [2, 2, 5, 8, 23, 24, 32, 44, 56, 99]\n",
    "\n",
    "print(\"Result by Linear Search:\", linear_search(l, 7))\n",
    "print(\"Result by Binary Search:\", binary_search(l, 7))\n"
   ]
  }
 ],
 "metadata": {
  "kernelspec": {
   "display_name": "Python 3 (ipykernel)",
   "language": "python",
   "name": "python3"
  },
  "language_info": {
   "codemirror_mode": {
    "name": "ipython",
    "version": 3
   },
   "file_extension": ".py",
   "mimetype": "text/x-python",
   "name": "python",
   "nbconvert_exporter": "python",
   "pygments_lexer": "ipython3",
   "version": "3.10.12"
  }
 },
 "nbformat": 4,
 "nbformat_minor": 4
}
